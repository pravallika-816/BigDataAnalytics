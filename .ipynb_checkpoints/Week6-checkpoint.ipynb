{
 "cells": [
  {
   "cell_type": "code",
   "execution_count": 1,
   "id": "2a9545fb-13b4-4d6a-8c5f-b2de9dd879ea",
   "metadata": {},
   "outputs": [
    {
     "data": {
      "text/html": [
       "\n",
       "        <div>\n",
       "            <p><b>SparkContext</b></p>\n",
       "\n",
       "            <p><a href=\"http://192.168.1.10:4040\">Spark UI</a></p>\n",
       "\n",
       "            <dl>\n",
       "              <dt>Version</dt>\n",
       "                <dd><code>v3.5.4</code></dd>\n",
       "              <dt>Master</dt>\n",
       "                <dd><code>local[*]</code></dd>\n",
       "              <dt>AppName</dt>\n",
       "                <dd><code>PySparkShell</code></dd>\n",
       "            </dl>\n",
       "        </div>\n",
       "        "
      ],
      "text/plain": [
       "<SparkContext master=local[*] appName=PySparkShell>"
      ]
     },
     "execution_count": 1,
     "metadata": {},
     "output_type": "execute_result"
    }
   ],
   "source": [
    "sc"
   ]
  },
  {
   "cell_type": "code",
   "execution_count": 2,
   "id": "e1255ae5-b7fb-40f0-9856-b10a2d2e4ff5",
   "metadata": {},
   "outputs": [],
   "source": [
    "import random"
   ]
  },
  {
   "cell_type": "code",
   "execution_count": 3,
   "id": "344a87bb-2934-4324-95d5-f21fe2a217fd",
   "metadata": {},
   "outputs": [
    {
     "name": "stdout",
     "output_type": "stream",
     "text": [
      "Original List:\n",
      "[122, 745, 440, 922, 700, 812, 195, 605, 977, 996, 468, 470, 530, 842, 506, 247, 83, 622, 879, 877, 850, 627, 850, 622, 900, 897, 232, 831, 195, 325, 101, 570, 290, 332, 825, 25, 984, 145, 614, 23, 19, 163, 799, 754, 981, 695, 844, 479, 892, 412, 402, 593, 874, 818, 901, 57, 539, 958, 611, 326, 285, 802, 589, 119, 869, 790, 699, 14, 750, 861, 706, 735, 780, 56, 97, 236, 213, 373, 507, 971, 604, 70, 847, 822, 996, 998, 688, 149, 818, 999, 247, 113, 54, 187, 637, 394, 717, 31, 655, 227]\n"
     ]
    }
   ],
   "source": [
    "random_numbers = [random.randint(1, 1000) for _ in range(100)]\n",
    "print(\"Original List:\")\n",
    "print(random_numbers)"
   ]
  },
  {
   "cell_type": "code",
   "execution_count": 4,
   "id": "57b29bdf-d4f2-4945-86ac-04d16bf8f90f",
   "metadata": {},
   "outputs": [],
   "source": [
    "numbers_rdd = sc.parallelize(random_numbers)"
   ]
  },
  {
   "cell_type": "code",
   "execution_count": 5,
   "id": "5902c622-6395-4c32-8260-d3118a76a4a8",
   "metadata": {},
   "outputs": [],
   "source": [
    "even_numbers_rdd = numbers_rdd.filter(lambda x: x % 2 == 0)"
   ]
  },
  {
   "cell_type": "code",
   "execution_count": 6,
   "id": "f99016c1-39a6-4cb5-a5f3-5393e82bf101",
   "metadata": {},
   "outputs": [
    {
     "name": "stdout",
     "output_type": "stream",
     "text": [
      "\n",
      "Even Numbers:\n",
      "[122, 440, 922, 700, 812, 996, 468, 470, 530, 842, 506, 622, 850, 850, 622, 900, 232, 570, 290, 332, 984, 614, 754, 844, 892, 412, 402, 874, 818, 958, 326, 802, 790, 14, 750, 706, 780, 56, 236, 604, 70, 822, 996, 998, 688, 818, 54, 394]\n"
     ]
    }
   ],
   "source": [
    "even_numbers = even_numbers_rdd.collect()\n",
    "print(\"\\nEven Numbers:\")\n",
    "print(even_numbers)"
   ]
  },
  {
   "cell_type": "code",
   "execution_count": null,
   "id": "5d1bb1b9-516a-4e32-b060-343fe688a348",
   "metadata": {},
   "outputs": [],
   "source": []
  }
 ],
 "metadata": {
  "kernelspec": {
   "display_name": "Python 3 (ipykernel)",
   "language": "python",
   "name": "python3"
  },
  "language_info": {
   "codemirror_mode": {
    "name": "ipython",
    "version": 3
   },
   "file_extension": ".py",
   "mimetype": "text/x-python",
   "name": "python",
   "nbconvert_exporter": "python",
   "pygments_lexer": "ipython3",
   "version": "3.10.11"
  }
 },
 "nbformat": 4,
 "nbformat_minor": 5
}
